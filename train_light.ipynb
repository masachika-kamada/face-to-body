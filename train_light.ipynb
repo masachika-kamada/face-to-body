{
 "cells": [
  {
   "cell_type": "code",
   "execution_count": 2,
   "metadata": {},
   "outputs": [],
   "source": [
    "import pandas as pd\n",
    "import face_recognition\n",
    "from sklearn.linear_model import HuberRegressor\n",
    "import numpy as np"
   ]
  },
  {
   "cell_type": "code",
   "execution_count": 3,
   "metadata": {},
   "outputs": [],
   "source": [
    "def get_face_encoding(image_path):\n",
    "    picture_of_me = face_recognition.load_image_file(image_path)\n",
    "    my_face_encoding = face_recognition.face_encodings(picture_of_me)\n",
    "    if not my_face_encoding:\n",
    "        print(f\"No face found in {image_path}\")\n",
    "        return 0\n",
    "    return my_face_encoding[0].tolist()"
   ]
  },
  {
   "cell_type": "code",
   "execution_count": 4,
   "metadata": {},
   "outputs": [
    {
     "name": "stdout",
     "output_type": "stream",
     "text": [
      "(1956, 7)\n",
      "No face found in talents_dataset/0019.jpg\n",
      "No face found in talents_dataset/0073.jpg\n",
      "No face found in talents_dataset/0116.jpg\n",
      "No face found in talents_dataset/0138.jpg\n",
      "No face found in talents_dataset/0221.jpg\n",
      "No face found in talents_dataset/0235.jpg\n",
      "No face found in talents_dataset/0252.jpg\n",
      "No face found in talents_dataset/0258.jpg\n",
      "No face found in talents_dataset/0306.jpg\n",
      "No face found in talents_dataset/0385.jpg\n",
      "No face found in talents_dataset/0435.jpg\n",
      "No face found in talents_dataset/0485.jpg\n",
      "No face found in talents_dataset/0525.jpg\n",
      "No face found in talents_dataset/0543.jpg\n",
      "No face found in talents_dataset/0575.jpg\n",
      "No face found in talents_dataset/0584.jpg\n",
      "No face found in talents_dataset/0610.jpg\n",
      "No face found in talents_dataset/0849.jpg\n",
      "No face found in talents_dataset/0911.jpg\n",
      "No face found in talents_dataset/0957.jpg\n",
      "No face found in talents_dataset/0975.jpg\n",
      "No face found in talents_dataset/1016.jpg\n",
      "No face found in talents_dataset/1018.jpg\n",
      "No face found in talents_dataset/1033.jpg\n",
      "No face found in talents_dataset/1126.jpg\n",
      "No face found in talents_dataset/1142.jpg\n",
      "No face found in talents_dataset/1183.jpg\n",
      "No face found in talents_dataset/1209.jpg\n",
      "No face found in talents_dataset/1216.jpg\n",
      "No face found in talents_dataset/1239.jpg\n",
      "No face found in talents_dataset/1254.jpg\n",
      "No face found in talents_dataset/1313.jpg\n",
      "No face found in talents_dataset/1322.jpg\n",
      "No face found in talents_dataset/1364.jpg\n",
      "No face found in talents_dataset/1388.jpg\n",
      "No face found in talents_dataset/1391.jpg\n",
      "No face found in talents_dataset/1493.jpg\n",
      "No face found in talents_dataset/1535.jpg\n",
      "No face found in talents_dataset/1540.jpg\n",
      "No face found in talents_dataset/1549.jpg\n",
      "No face found in talents_dataset/1560.jpg\n",
      "No face found in talents_dataset/1581.jpg\n",
      "No face found in talents_dataset/1663.jpg\n",
      "No face found in talents_dataset/1776.jpg\n",
      "No face found in talents_dataset/1880.jpg\n",
      "No face found in talents_dataset/1951.jpg\n",
      "(1910, 128)\n",
      "(1910, 7)\n"
     ]
    }
   ],
   "source": [
    "df = pd.read_csv(\"talents_dataset/combine.csv\")\n",
    "print(df.shape)\n",
    "\n",
    "all_faces = []\n",
    "remove_idx = []\n",
    "for i, id in enumerate(df.id):\n",
    "    face_enc = get_face_encoding(f\"talents_dataset/{id:04}.jpg\")\n",
    "    if face_enc == 0:\n",
    "        remove_idx.append(i)\n",
    "        continue\n",
    "    all_faces.append(face_enc)\n",
    "X = np.array(all_faces)\n",
    "df_face = pd.DataFrame(X)\n",
    "print(df_face.shape)\n",
    "\n",
    "df = df.drop(remove_idx)\n",
    "print(df.shape)"
   ]
  },
  {
   "cell_type": "code",
   "execution_count": 11,
   "metadata": {},
   "outputs": [
    {
     "name": "stdout",
     "output_type": "stream",
     "text": [
      "(1865,) (1865,)\n",
      "(1865, 131)\n"
     ]
    },
    {
     "data": {
      "text/plain": [
       "array([[ 3.80000000e+01,  0.00000000e+00,  1.00000000e+00, ...,\n",
       "        -2.79931799e-02,  3.13673541e-02,  6.15612743e-03],\n",
       "       [ 2.50000000e+01,  1.00000000e+00,  0.00000000e+00, ...,\n",
       "        -9.46738049e-02,  5.95200285e-02, -8.04585218e-03],\n",
       "       [ 2.40000000e+01,  0.00000000e+00,  1.00000000e+00, ...,\n",
       "        -3.51711512e-02,  1.16121978e-01, -3.25355772e-03],\n",
       "       ...,\n",
       "       [ 4.00000000e+01,  0.00000000e+00,  1.00000000e+00, ...,\n",
       "        -7.10002407e-02,  7.07572699e-02, -6.90515153e-03],\n",
       "       [ 4.00000000e+01,  1.00000000e+00,  0.00000000e+00, ...,\n",
       "         8.23957846e-03,  8.70382711e-02,  1.66507512e-02],\n",
       "       [ 3.00000000e+01,  0.00000000e+00,  1.00000000e+00, ...,\n",
       "        -1.15561731e-01,  1.18354969e-01,  5.02426289e-02]])"
      ]
     },
     "execution_count": 11,
     "metadata": {},
     "output_type": "execute_result"
    }
   ],
   "source": [
    "X = pd.concat([df, df_face], axis=\"columns\", join=\"inner\")\n",
    "y_weight = X.weight.values\n",
    "y_BMI = X.bmi.values\n",
    "print(y_weight.shape, y_BMI.shape)\n",
    "X = X.drop([\"id\", \"bmi\", \"height\", \"weight\"], axis=1)\n",
    "X = np.array(X.values)\n",
    "print(X.shape)\n",
    "X"
   ]
  },
  {
   "cell_type": "code",
   "execution_count": 12,
   "metadata": {},
   "outputs": [],
   "source": [
    "from sklearn.model_selection import train_test_split\n",
    "\n",
    "X_train, X_test, y_weight_train, y_weight_test ,y_BMI_train, y_BMI_test = train_test_split(X, y_weight, y_BMI, random_state=1, test_size=0.15)"
   ]
  },
  {
   "cell_type": "code",
   "execution_count": 13,
   "metadata": {},
   "outputs": [],
   "source": [
    "from sklearn.metrics import mean_squared_error, r2_score\n",
    "\n",
    "def report_goodness(model, X_test, y_test, predictor_log=True):\n",
    "    # Make predictions using the testing set\n",
    "    y_pred = model.predict(X_test)\n",
    "    y_true = y_test\n",
    "    if predictor_log:\n",
    "        y_true = np.log(y_test)\n",
    "    # The coefficients\n",
    "    # The mean squared error\n",
    "    print(f\"Mean squared error: {mean_squared_error(y_true, y_pred):.2f}\")\n",
    "    # Explained variance score: 1 is perfect prediction\n",
    "    print(f\"Variance score: {r2_score(y_true, y_pred):.2f}\")\n",
    "\n",
    "    errors = abs(y_pred - y_true)\n",
    "    mape = 100 * np.mean(errors / y_true)\n",
    "    accuracy = 100 - mape\n",
    "    print(\"Model Performance\")\n",
    "    print(f\"Average Error: {np.mean(errors):0.4f} degrees.\")\n",
    "    print(f\"Accuracy = {accuracy:0.2f}%.\")"
   ]
  },
  {
   "cell_type": "code",
   "execution_count": 14,
   "metadata": {},
   "outputs": [
    {
     "name": "stdout",
     "output_type": "stream",
     "text": [
      "Mean squared error: 0.52\n",
      "Variance score: -0.02\n",
      "Model Performance\n",
      "Average Error: 0.2377 degrees.\n",
      "Accuracy = 98.74%.\n"
     ]
    }
   ],
   "source": [
    "model_BMI = HuberRegressor(alpha=0.05, epsilon=1.8, fit_intercept=True, max_iter=100, tol=1e-05, warm_start=False)\n",
    "model_BMI = model_BMI.fit(X_train,np.log(y_BMI_train))\n",
    "report_goodness(model_BMI,X_test,y_BMI_test)"
   ]
  },
  {
   "cell_type": "code",
   "execution_count": 15,
   "metadata": {},
   "outputs": [
    {
     "name": "stdout",
     "output_type": "stream",
     "text": [
      "Mean squared error: 0.15\n",
      "Variance score: -0.03\n",
      "Model Performance\n",
      "Average Error: 0.1733 degrees.\n",
      "Accuracy = 96.18%.\n"
     ]
    }
   ],
   "source": [
    "model_weight = HuberRegressor(alpha=0.1, epsilon=1.7, fit_intercept=True, max_iter=100, tol=1e-05, warm_start=False)\n",
    "model_weight = model_weight.fit(X_train,np.log(y_weight_train))\n",
    "report_goodness(model_weight,X_test,y_weight_test)"
   ]
  },
  {
   "cell_type": "code",
   "execution_count": null,
   "metadata": {},
   "outputs": [],
   "source": [
    "import joblib\n",
    "\n",
    "joblib.dump(model_weight, \"models/weight_predictor_light.model\")\n",
    "joblib.dump(model_BMI, \"models/bmi_predictor_light.model\")"
   ]
  }
 ],
 "metadata": {
  "kernelspec": {
   "display_name": "Python 3.7.7 ('tensorflow_gpu')",
   "language": "python",
   "name": "python3"
  },
  "language_info": {
   "codemirror_mode": {
    "name": "ipython",
    "version": 3
   },
   "file_extension": ".py",
   "mimetype": "text/x-python",
   "name": "python",
   "nbconvert_exporter": "python",
   "pygments_lexer": "ipython3",
   "version": "3.7.7"
  },
  "orig_nbformat": 4,
  "vscode": {
   "interpreter": {
    "hash": "17d6107d55558f78256dcdeb57a2d2e6ee89f1f09e7dd06d024703b25d275b4a"
   }
  }
 },
 "nbformat": 4,
 "nbformat_minor": 2
}
