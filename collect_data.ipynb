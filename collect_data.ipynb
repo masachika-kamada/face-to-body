{
 "cells": [
  {
   "cell_type": "code",
   "execution_count": 31,
   "metadata": {},
   "outputs": [],
   "source": [
    "import requests\n",
    "from bs4 import BeautifulSoup\n",
    "import re\n",
    "import pandas as pd\n",
    "import os\n",
    "\n",
    "url = \"https://talemecasting-next.com/talent?birth_year_min=&birth_year_max=&age_min=15&age_max=40&height_min=0&height_max=200&weight_min=0&weight_max=200&blood=&constellation=&keyword=&carrier=\"\n",
    "response = requests.get(url)"
   ]
  },
  {
   "cell_type": "code",
   "execution_count": 32,
   "metadata": {},
   "outputs": [
    {
     "name": "stdout",
     "output_type": "stream",
     "text": [
      "芸能人一覧 | キャスティング業務用データベース「タレメcasting NEXT」\n"
     ]
    }
   ],
   "source": [
    "soup = BeautifulSoup(response.text, 'lxml')\n",
    "title = soup.title.string\n",
    "print(title)"
   ]
  },
  {
   "cell_type": "code",
   "execution_count": 33,
   "metadata": {},
   "outputs": [
    {
     "name": "stdout",
     "output_type": "stream",
     "text": [
      "半野　雅 176 65 https://narrow.jp/img/upload/talent/M22-0485-211114.jpg\n"
     ]
    }
   ],
   "source": [
    "link = soup.tbody.find_all(\"tr\", class_=\"talent-data\")\n",
    "name = link[0].find(\"span\", class_=\"fwb\").string\n",
    "height = link[0].find(\"td\", class_=\"height\").string\n",
    "height = re.sub(r\"\\D\", \"\", height)\n",
    "weight = link[0].find(\"td\", class_=\"weight\").string\n",
    "weight = re.sub(r\"\\D\", \"\", weight)\n",
    "link = link[0].find(\"img\")[\"src\"]\n",
    "print(name, height, weight, link)"
   ]
  },
  {
   "cell_type": "code",
   "execution_count": 27,
   "metadata": {},
   "outputs": [],
   "source": [
    "img = requests.get(link)\n",
    "with open(\"img.jpg\", \"wb\") as f:\n",
    "    f.write(img.content)"
   ]
  },
  {
   "cell_type": "code",
   "execution_count": 60,
   "metadata": {},
   "outputs": [],
   "source": [
    "ids = []\n",
    "names = []\n",
    "heights = []\n",
    "weights = []\n",
    "bmis = []\n",
    "os.makedirs(\"talents_dataset\", exist_ok=True)"
   ]
  },
  {
   "cell_type": "code",
   "execution_count": null,
   "metadata": {},
   "outputs": [],
   "source": [
    "import time\n",
    "first_time = True  # 既にtalents.csvにデータがある場合はFalseにする\n",
    "last_save_idx = 0  # 最後に保存したID（途中で処理を中断した場合に使用）\n",
    "\n",
    "for i in range(1, 34):\n",
    "    url = f\"https://talemecasting-next.com/talent?birth_year_min=&birth_year_max=&age_min=15&age_max=40&height_min=0&height_max=300&weight_min=0&weight_max=200&blood=&constellation=&keyword=&limit=100&carrier=&page={i}\"\n",
    "    response = requests.get(url)\n",
    "    soup = BeautifulSoup(response.text, 'lxml')\n",
    "    body = soup.tbody.find_all(\"tr\", class_=\"talent-data\")\n",
    "    talents = body.copy()\n",
    "    for j, talent in enumerate(talents):\n",
    "        if (i - 1) * 100 + j > last_save_idx:\n",
    "            ids.append((i - 1) * 100 + j)\n",
    "            name = talent.find(\"span\", class_=\"fwb\").string.replace(\"\\u3000\", \"\")\n",
    "            names.append(name)\n",
    "            height = talent.find(\"td\", class_=\"height\").string\n",
    "            height = int(re.sub(r\"\\D\", \"\", height))\n",
    "            heights.append(height)\n",
    "            weight = talent.find(\"td\", class_=\"weight\").string\n",
    "            weight = int(re.sub(r\"\\D\", \"\", weight))\n",
    "            weights.append(weight)\n",
    "            bmi = weight / (height / 100) ** 2\n",
    "            bmis.append(bmi)\n",
    "            img_link = talent.find(\"img\")[\"src\"]\n",
    "            img = requests.get(img_link)\n",
    "            save_path = f\"talents_dataset/{(i - 1) * 100 + j:04}.jpg\"\n",
    "            with open(save_path, \"wb\") as f:\n",
    "                f.write(img.content)\n",
    "            time.sleep(1)\n",
    "\n",
    "    print(f\"{i} pages done\")\n",
    "    df = pd.DataFrame(list(zip(ids, names, heights, weights, bmis)), columns=[\"id\", \"name\", \"height\", \"weight\", \"bmi\"])\n",
    "    if first_time:\n",
    "        df.to_csv(\"talents_dataset/hoge.csv\", index=False)\n",
    "        first_time = False\n",
    "    else:\n",
    "        df.to_csv(\"talents_dataset/hoge.csv\", mode=\"a\", header=False, index=False)\n",
    "    ids = []\n",
    "    names = []\n",
    "    heights = []\n",
    "    weights = []\n",
    "    bmis = []\n",
    "    time.sleep(5)"
   ]
  },
  {
   "cell_type": "code",
   "execution_count": null,
   "metadata": {},
   "outputs": [],
   "source": [
    "df = pd.DataFrame(list(zip(ids, names, heights, weights, bmis)), columns=[\"id\", \"name\", \"height\", \"weight\", \"bmi\"])\n",
    "df"
   ]
  },
  {
   "cell_type": "code",
   "execution_count": 54,
   "metadata": {},
   "outputs": [],
   "source": [
    "df.to_csv(\"talents_dataset/talents.csv\", mode=\"a\", header=False, index=False)"
   ]
  }
 ],
 "metadata": {
  "kernelspec": {
   "display_name": "Python 3.7.7 ('tensorflow_gpu')",
   "language": "python",
   "name": "python3"
  },
  "language_info": {
   "codemirror_mode": {
    "name": "ipython",
    "version": 3
   },
   "file_extension": ".py",
   "mimetype": "text/x-python",
   "name": "python",
   "nbconvert_exporter": "python",
   "pygments_lexer": "ipython3",
   "version": "3.7.7"
  },
  "orig_nbformat": 4,
  "vscode": {
   "interpreter": {
    "hash": "17d6107d55558f78256dcdeb57a2d2e6ee89f1f09e7dd06d024703b25d275b4a"
   }
  }
 },
 "nbformat": 4,
 "nbformat_minor": 2
}
